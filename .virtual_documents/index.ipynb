

















import pandas as  pd
import sqlite3

db = sqlite3.connect('dogs.db')

dog_col='SELECT * FROM dogs'
df = pd.read_sql(dog_col , db)
df











df = pd.read_sql("SELECT name FROM dogs WHERE gender ='F'" , db)
df





df = pd.read_sql("SELECT * , COUNT(*) AS count FROM dogs WHERE name is NULL" , db)
df





df = pd.read_sql("SELECT name FROM dogs WHERE name LIKE '%ff%' OR name LIKE '%oo%' " , db)
df





df = pd.read_sql("SELECT name FROM dogs ORDER BY name ASC", db)
df





df = pd.read_sql("SELECT name,breed FROM dogs WHERE hungry == 1 ORDER BY age ASC"  , db)
df





df = pd.read_sql("SELECT name,age,temperament  FROM dogs ORDER BY age DESC LIMIT 1  " , db)
df





df = pd.read_sql("SELECT name, age FROM dogs ORDER BY age ASC LIMIT 3" , db)
df





df = pd.read_sql("SELECT name,breed FROM dogs WHERE age BETWEEN 5 AND 10 ORDER BY age DESC ", db)
df





df = pd.read_sql("SELECT name,age,hungry FROM dogs WHERE age BETWEEN 2 AND 7 ORDER BY name ASC" , db)
df





db.close()






